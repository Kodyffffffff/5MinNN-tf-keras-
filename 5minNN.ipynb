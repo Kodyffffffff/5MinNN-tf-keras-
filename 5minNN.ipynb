{
 "cells": [
  {
   "cell_type": "code",
   "execution_count": 1,
   "id": "10bbf91a-22e0-4dbe-9440-79f6a4b14784",
   "metadata": {},
   "outputs": [],
   "source": [
    "import keras\n",
    "from keras.models import Sequential\n",
    "from keras.layers import Dense\n",
    "from tensorflow.keras.optimizers import Adam"
   ]
  },
  {
   "cell_type": "markdown",
   "id": "cbe8f06e-2ed8-4669-b415-6954de3ffc23",
   "metadata": {},
   "source": [
    "#### Nueral network"
   ]
  },
  {
   "cell_type": "code",
   "execution_count": 2,
   "id": "85912f0b-2f30-4086-9057-1904094890f7",
   "metadata": {},
   "outputs": [],
   "source": [
    "# model = Sequential([]) //#[Dense(cell,activation='?')layer1 /input_dim:input layer ,Dense()laye2,...]\n",
    "#activation func //basically \"input layer:relu and output layer:softmax\"\n",
    "# and sigmoid func basically use with class/block 2output"
   ]
  },
  {
   "cell_type": "code",
   "execution_count": 5,
   "id": "89efed7e-1271-42f5-b18b-1bfc6ffe20da",
   "metadata": {},
   "outputs": [],
   "source": [
    "model = Sequential([Dense(16,input_dim=1,activation='relu'),Dense(32,activation='relu')\n",
    "        ,Dense(2,activation='softmax')])"
   ]
  },
  {
   "cell_type": "markdown",
   "id": "fbb415fe-d4a1-4c2f-8844-043c772bb996",
   "metadata": {},
   "source": [
    "#### Compile Nueral Network"
   ]
  },
  {
   "cell_type": "code",
   "execution_count": 3,
   "id": "efecf4aa-3aaa-4012-9451-eaef27a93d20",
   "metadata": {},
   "outputs": [],
   "source": [
    "#basically use Adam:what is information/activation func/learning rate\n",
    "# .compile(Adam(lr://optimizers),loss='/',metrics=[\"\"])"
   ]
  },
  {
   "cell_type": "code",
   "execution_count": 7,
   "id": "b4242195-a871-4bb5-9793-3a6af706b2d5",
   "metadata": {},
   "outputs": [],
   "source": [
    "model.compile(Adam(lr=0.001),loss='sparse_categorical_crossentropy',metrics=['accuracy'])"
   ]
  },
  {
   "cell_type": "markdown",
   "id": "b5d7a1b9-8d4f-4928-aff7-abe84913cada",
   "metadata": {},
   "source": [
    "#### Check Neural Network"
   ]
  },
  {
   "cell_type": "code",
   "execution_count": 8,
   "id": "26aea405-e1e2-46e5-81cb-7766eeb5607f",
   "metadata": {},
   "outputs": [
    {
     "name": "stdout",
     "output_type": "stream",
     "text": [
      "Model: \"sequential_1\"\n",
      "_________________________________________________________________\n",
      " Layer (type)                Output Shape              Param #   \n",
      "=================================================================\n",
      " dense_3 (Dense)             (None, 16)                32        \n",
      "                                                                 \n",
      " dense_4 (Dense)             (None, 32)                544       \n",
      "                                                                 \n",
      " dense_5 (Dense)             (None, 2)                 66        \n",
      "                                                                 \n",
      "=================================================================\n",
      "Total params: 642\n",
      "Trainable params: 642\n",
      "Non-trainable params: 0\n",
      "_________________________________________________________________\n"
     ]
    }
   ],
   "source": [
    "# var.summary() #check \n",
    "model.summary()"
   ]
  }
 ],
 "metadata": {
  "kernelspec": {
   "display_name": "Python 3 (ipykernel)",
   "language": "python",
   "name": "python3"
  },
  "language_info": {
   "codemirror_mode": {
    "name": "ipython",
    "version": 3
   },
   "file_extension": ".py",
   "mimetype": "text/x-python",
   "name": "python",
   "nbconvert_exporter": "python",
   "pygments_lexer": "ipython3",
   "version": "3.9.12"
  }
 },
 "nbformat": 4,
 "nbformat_minor": 5
}
